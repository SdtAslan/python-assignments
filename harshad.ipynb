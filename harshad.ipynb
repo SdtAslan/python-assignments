{
 "cells": [
  {
   "cell_type": "code",
   "execution_count": 2,
   "source": [
    "x = input(\"Enter a number\").strip() #harshad number: ex: 171 > 171/(1+7+1) % == 0\r\n",
    "if x.isdigit():\r\n",
    "    a = int(x)\r\n",
    "    b = list(x)\r\n",
    "    i = 0\r\n",
    "    total = 0\r\n",
    "    while i < len(b):\r\n",
    "        z = int(b[i])\r\n",
    "        total += z\r\n",
    "        i += 1\r\n",
    "    if a % total == 0:\r\n",
    "        print(x, \"is a harshad number\")    \r\n",
    "    else:\r\n",
    "        print(x, \"is not harshad number\")\r\n",
    "else:\r\n",
    "    print(\"It is an invalid entry. Don't use non-numeric, float, or negative values!\")"
   ],
   "outputs": [
    {
     "output_type": "stream",
     "name": "stdout",
     "text": [
      "171 is a harshad number\n"
     ]
    }
   ],
   "metadata": {}
  }
 ],
 "metadata": {
  "orig_nbformat": 4,
  "language_info": {
   "name": "python",
   "version": "3.9.6",
   "mimetype": "text/x-python",
   "codemirror_mode": {
    "name": "ipython",
    "version": 3
   },
   "pygments_lexer": "ipython3",
   "nbconvert_exporter": "python",
   "file_extension": ".py"
  },
  "kernelspec": {
   "name": "python3",
   "display_name": "Python 3.9.6 64-bit (windows store)"
  },
  "interpreter": {
   "hash": "91e309b0d6f9bd13113d0dab55954c7a828cac190944509a12384aacede56c3d"
  }
 },
 "nbformat": 4,
 "nbformat_minor": 2
}