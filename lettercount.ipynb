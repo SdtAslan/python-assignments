word = str(input("Enter a word: "))
def lettercount(word):
    liste = []
    liste1 = []
   
    for i in word:
        a = word.count(i)
        liste.append(a)
        liste1.append(i)

    return dict(zip(liste1,liste))
print(lettercount(word))
